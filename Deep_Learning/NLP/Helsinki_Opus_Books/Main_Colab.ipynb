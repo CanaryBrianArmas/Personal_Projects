{
  "cells": [
    {
      "cell_type": "code",
      "execution_count": null,
      "metadata": {
        "id": "GmrC-iw1G7md"
      },
      "outputs": [],
      "source": [
        "# Clone the repository"
      ]
    },
    {
      "cell_type": "code",
      "execution_count": null,
      "metadata": {
        "colab": {
          "base_uri": "https://localhost:8080/"
        },
        "id": "KIIJuMSiD4I7",
        "outputId": "ec3f8b8c-f9b2-427c-cbae-1bb6ccf6b52a"
      },
      "outputs": [],
      "source": [
        "!git clone https://github.com/CanaryBrianArmas/Personal_Projects.git"
      ]
    },
    {
      "cell_type": "code",
      "execution_count": null,
      "metadata": {
        "id": "JH_d5rmMG-JB"
      },
      "outputs": [],
      "source": [
        "# Move to the corresponding folder"
      ]
    },
    {
      "cell_type": "code",
      "execution_count": null,
      "metadata": {
        "colab": {
          "base_uri": "https://localhost:8080/"
        },
        "id": "bboB0R1sEqZw",
        "outputId": "2209cf0f-23fa-43aa-a419-1e527f62278f"
      },
      "outputs": [],
      "source": [
        "%cd Personal_Projects/Deep_Learning/NLP/Helsinki_Opus_Books"
      ]
    },
    {
      "cell_type": "code",
      "execution_count": null,
      "metadata": {
        "id": "BQUAyv8OHB39"
      },
      "outputs": [],
      "source": [
        "# Do some checkings"
      ]
    },
    {
      "cell_type": "code",
      "execution_count": null,
      "metadata": {
        "colab": {
          "base_uri": "https://localhost:8080/"
        },
        "id": "S7hUphxNExtm",
        "outputId": "a386b099-1ad1-43de-9e61-cfb9e52f92d4"
      },
      "outputs": [],
      "source": [
        "!pwd"
      ]
    },
    {
      "cell_type": "code",
      "execution_count": null,
      "metadata": {
        "colab": {
          "base_uri": "https://localhost:8080/"
        },
        "id": "W0I7SLTFE1wI",
        "outputId": "2ba55a51-6c04-4156-d83d-74f10d8bbaab"
      },
      "outputs": [],
      "source": [
        "!ls"
      ]
    },
    {
      "cell_type": "code",
      "execution_count": null,
      "metadata": {
        "colab": {
          "base_uri": "https://localhost:8080/"
        },
        "id": "Kmu4oye8GaNh",
        "outputId": "0ab6a164-5572-466b-b12c-e8a28c9d9279"
      },
      "outputs": [],
      "source": [
        "!pip install -r requirements.txt"
      ]
    },
    {
      "cell_type": "code",
      "execution_count": null,
      "metadata": {
        "id": "Ivt3Lg_-JJH6"
      },
      "outputs": [],
      "source": [
        "# Dissable Weights & Biases\n",
        "import os\n",
        "os.environ[\"WANDB_DISABLED\"] = \"true\""
      ]
    },
    {
      "cell_type": "code",
      "execution_count": null,
      "metadata": {
        "id": "uLhMAhzyIgqw"
      },
      "outputs": [],
      "source": [
        "# Run the training"
      ]
    },
    {
      "cell_type": "code",
      "execution_count": null,
      "metadata": {
        "colab": {
          "base_uri": "https://localhost:8080/"
        },
        "id": "ntSXaXydHM8_",
        "outputId": "78441fec-5981-42b7-8ca3-5cb8ad4dc012"
      },
      "outputs": [],
      "source": [
        "!python main.py train"
      ]
    },
    {
      "cell_type": "code",
      "execution_count": null,
      "metadata": {
        "id": "hsUiU9h5Ijyv"
      },
      "outputs": [],
      "source": [
        "# Run the evaluation"
      ]
    },
    {
      "cell_type": "code",
      "execution_count": null,
      "metadata": {
        "colab": {
          "base_uri": "https://localhost:8080/"
        },
        "id": "ZuH9CzGuMUz1",
        "outputId": "2e964c66-9b5d-477e-cec5-3e4d3b46c17a"
      },
      "outputs": [],
      "source": [
        "!python main.py eval"
      ]
    },
    {
      "cell_type": "code",
      "execution_count": null,
      "metadata": {
        "id": "EKUaneEOIp6d"
      },
      "outputs": [],
      "source": [
        "# Run the test"
      ]
    },
    {
      "cell_type": "code",
      "execution_count": null,
      "metadata": {
        "colab": {
          "base_uri": "https://localhost:8080/"
        },
        "id": "cLuWuQe4MVP7",
        "outputId": "762c473b-e639-4539-c3e1-b32d09c410a1"
      },
      "outputs": [],
      "source": [
        "!python main.py test"
      ]
    },
    {
      "cell_type": "code",
      "execution_count": null,
      "metadata": {
        "id": "XzknlqByJzVS"
      },
      "outputs": [],
      "source": [
        "# Using the Model"
      ]
    },
    {
      "cell_type": "code",
      "execution_count": null,
      "metadata": {
        "id": "zdn5cH60J4aI"
      },
      "outputs": [],
      "source": [
        "!python main.py predict"
      ]
    }
  ],
  "metadata": {
    "accelerator": "GPU",
    "colab": {
      "gpuType": "T4",
      "provenance": []
    },
    "kernelspec": {
      "display_name": "Python 3",
      "name": "python3"
    },
    "language_info": {
      "name": "python"
    }
  },
  "nbformat": 4,
  "nbformat_minor": 0
}
